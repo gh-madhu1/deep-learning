{
 "cells": [
  {
   "cell_type": "markdown",
   "metadata": {
    "id": "DX9PYv3W4Lj_"
   },
   "source": [
    "<center>\n",
    "\n",
    "# **Assignment 1 - Problem 5**\n",
    "### Question No.2. NLP Dataset: IMDB-50K Movie Review dataset comprising 50K movie reviews.\n",
    "\n",
    "## **DL Group 205**\n",
    "\n",
    "## **Contributors:**\n",
    "**1. MADHU KANUKULA (2019AB04116)**\n",
    "\n",
    "**2. PRASHANT KUMAR (2019AB04158)**\n",
    "\n",
    "**3. ARKAJYOTI MISRA (2019AB04147)**\n",
    "\n",
    "</Center>"
   ]
  },
  {
   "cell_type": "markdown",
   "metadata": {
    "id": "ze502MUN-Hd3"
   },
   "source": [
    "# **1. Import Libraries/Dataset**"
   ]
  },
  {
   "cell_type": "code",
   "execution_count": 60,
   "metadata": {
    "colab": {
     "base_uri": "https://localhost:8080/"
    },
    "id": "dLucV9okyuv1",
    "outputId": "5bdb6082-56a4-493a-cc24-de727bf3d33e"
   },
   "outputs": [
    {
     "name": "stdout",
     "output_type": "stream",
     "text": [
      "Sun May 23 15:03:46 2021       \n",
      "+-----------------------------------------------------------------------------+\n",
      "| NVIDIA-SMI 465.19.01    Driver Version: 460.32.03    CUDA Version: 11.2     |\n",
      "|-------------------------------+----------------------+----------------------+\n",
      "| GPU  Name        Persistence-M| Bus-Id        Disp.A | Volatile Uncorr. ECC |\n",
      "| Fan  Temp  Perf  Pwr:Usage/Cap|         Memory-Usage | GPU-Util  Compute M. |\n",
      "|                               |                      |               MIG M. |\n",
      "|===============================+======================+======================|\n",
      "|   0  Tesla K80           Off  | 00000000:00:04.0 Off |                    0 |\n",
      "| N/A   73C    P0    73W / 149W |   2218MiB / 11441MiB |      0%      Default |\n",
      "|                               |                      |                  N/A |\n",
      "+-------------------------------+----------------------+----------------------+\n",
      "                                                                               \n",
      "+-----------------------------------------------------------------------------+\n",
      "| Processes:                                                                  |\n",
      "|  GPU   GI   CI        PID   Type   Process name                  GPU Memory |\n",
      "|        ID   ID                                                   Usage      |\n",
      "|=============================================================================|\n",
      "+-----------------------------------------------------------------------------+\n"
     ]
    }
   ],
   "source": [
    "!nvidia-smi"
   ]
  },
  {
   "cell_type": "code",
   "execution_count": 61,
   "metadata": {
    "id": "CUxj2guAyY15"
   },
   "outputs": [],
   "source": [
    "!pip install -q tensorflow-hub\n",
    "!pip install -q tensorflow-datasets"
   ]
  },
  {
   "cell_type": "code",
   "execution_count": 62,
   "metadata": {
    "colab": {
     "base_uri": "https://localhost:8080/"
    },
    "id": "z4OLFXEVyygq",
    "outputId": "3d8ca226-135f-46be-8e9c-7d4a114e15bd"
   },
   "outputs": [
    {
     "name": "stdout",
     "output_type": "stream",
     "text": [
      "Version:  2.4.1\n",
      "Eager mode:  True\n",
      "Hub version:  0.12.0\n",
      "GPU is available\n"
     ]
    }
   ],
   "source": [
    "import os\n",
    "import numpy as np\n",
    "\n",
    "import tensorflow as tf\n",
    "import tensorflow_hub as hub\n",
    "import tensorflow_datasets as tfds\n",
    "\n",
    "print(\"Version: \", tf.__version__)\n",
    "print(\"Eager mode: \", tf.executing_eagerly())\n",
    "print(\"Hub version: \", hub.__version__)\n",
    "print(\"GPU is\", \"available\" if tf.config.list_physical_devices(\"GPU\") else \"NOT AVAILABLE\")"
   ]
  },
  {
   "cell_type": "code",
   "execution_count": 63,
   "metadata": {
    "id": "_piJkaXTy6S6"
   },
   "outputs": [],
   "source": [
    "(train_data, test_data)= tfds.load( \n",
    "    name='imdb_reviews',\n",
    "    split=['train','test'],\n",
    "    as_supervised=True,\n",
    "    batch_size=-1\n",
    ")\n",
    "\n",
    "reviews, sentiments = tfds.as_numpy(train_data)\n",
    "reviews_test, sentiments_test = tfds.as_numpy(test_data)"
   ]
  },
  {
   "cell_type": "markdown",
   "metadata": {
    "id": "3ssceVLx-wnp"
   },
   "source": [
    "# **2. Data Visualization**"
   ]
  },
  {
   "cell_type": "code",
   "execution_count": 64,
   "metadata": {
    "colab": {
     "base_uri": "https://localhost:8080/"
    },
    "id": "7kHru09H-7hC",
    "outputId": "bd938aca-9f72-49d2-eac2-fbeacfb46e09"
   },
   "outputs": [
    {
     "name": "stdout",
     "output_type": "stream",
     "text": [
      "<class 'numpy.ndarray'> (25000,)\n",
      "<class 'numpy.ndarray'> (25000,)\n",
      "<class 'numpy.ndarray'> (25000,)\n",
      "<class 'numpy.ndarray'> (25000,)\n"
     ]
    }
   ],
   "source": [
    "# Print the shapes of train and test data.\n",
    "print(type(reviews), reviews.shape)\n",
    "print(type(reviews_test), reviews_test.shape)\n",
    "\n",
    "print(type(sentiments), sentiments.shape)\n",
    "print(type(sentiments_test), sentiments_test.shape)"
   ]
  },
  {
   "cell_type": "code",
   "execution_count": 65,
   "metadata": {
    "colab": {
     "base_uri": "https://localhost:8080/"
    },
    "id": "ioC2TdpL0M4A",
    "outputId": "77668023-ec5d-4524-e01a-f8a0ae0499bf"
   },
   "outputs": [
    {
     "name": "stdout",
     "output_type": "stream",
     "text": [
      "Sentiment, Review\n",
      "1 b'As others have mentioned, all the women that go nude in this film are mostly absolutely gorgeous. The plot very ably shows the hypocrisy of the female libido. When men are around they want to be pursued, but when no \"men\" are around, they become the pursuers of a 14 year old boy. And the boy becomes a man really fast (we should all be so lucky at this age!). He then gets up the courage to pursue his true love.'\n",
      "1 b'Hilarious, evocative, confusing, brilliant film. Reminds me of Bunuel\\'s L\\'Age D\\'Or or Jodorowsky\\'s Holy Mountain-- lots of strange characters mucking about and looking for..... what is it? I laughed almost the whole way through, all the while keeping a peripheral eye on the bewildered and occasionally horrified reactions of the audience that surrounded me in the theatre. Entertaining through and through, from the beginning to the guts and poisoned entrails all the way to the end, if it was an end. I only wish i could remember every detail. It haunts me sometimes.<br /><br />Honestly, though, i have only the most positive recollections of this film. As it doesn\\'t seem to be available to take home and watch, i suppose i\\'ll have to wait a few more years until Crispin Glover comes my way again with his Big Slide Show (and subsequent \"What is it?\" screening)... I saw this film in Atlanta almost directly after being involved in a rather devastating car crash, so i was slightly dazed at the time, which was perhaps a very good state of mind to watch the prophetic talking arthropods and the retards in the superhero costumes and godlike Glover in his appropriate burly-Q setting, scantily clad girlies rising out of the floor like a magnificent DADAist wet dream.<br /><br />Is it a statement on Life As We Know It? Of course everyone EXPECTS art to be just that. I rather think that the truth is more evident in the absences and in the negative space. What you don\\'t tell us is what we must deduce, but is far more valid than the lies that other people feed us day in and day out. Rather one \"WHAT IS IT?\" than 5000 movies like \"Titanic\" or \"Sleepless in Seattle\" (shudder, gag, groan).<br /><br />Thank you, Mr. Glover (additionally a fun man to watch on screen or at his Big Slide Show-- smart, funny, quirky, and outrageously hot). Make more films, write more books, keep the nightmare alive.'\n",
      "0 b\"This was an absolutely terrible movie. Don't be lured in by Christopher Walken or Michael Ironside. Both are great actors, but this must simply be their worst role in history. Even their great acting could not redeem this movie's ridiculous storyline. This movie is an early nineties US propaganda piece. The most pathetic scenes were those when the Columbian rebels were making their cases for revolutions. Maria Conchita Alonso appeared phony, and her pseudo-love affair with Walken was nothing but a pathetic emotional plug in a movie that was devoid of any real meaning. I am disappointed that there are movies like this, ruining actor's like Christopher Walken's good name. I could barely sit through it.\"\n",
      "0 b'I have been known to fall asleep during films, but this is usually due to a combination of things including, really tired, being warm and comfortable on the sette and having just eaten a lot. However on this occasion I fell asleep because the film was rubbish. The plot development was constant. Constantly slow and boring. Things seemed to happen, but with no explanation of what was causing them or why. I admit, I may have missed part of the film, but i watched the majority of it and everything just seemed to happen of its own accord without any real concern for anything else. I cant recommend this film at all.'\n"
     ]
    }
   ],
   "source": [
    "# Print at least two movie reviews from each class of the dataset, for a sanity check that labels match the text.\n",
    "\n",
    "# Note: 0 - Indicates Negative, 1- Indicates Positive\n",
    "\n",
    "print(\"Sentiment, Review\")\n",
    "print(sentiments.take(4), reviews.take(4))\n",
    "print(sentiments.take(14), reviews.take(14))\n",
    "print(sentiments.take(0),reviews.take(0))\n",
    "print(sentiments.take(1), reviews.take(1))\n"
   ]
  },
  {
   "cell_type": "code",
   "execution_count": 66,
   "metadata": {
    "colab": {
     "base_uri": "https://localhost:8080/",
     "height": 990
    },
    "id": "Qb7LatT16tCB",
    "outputId": "637af62a-6944-415d-c624-6a409adf0e95"
   },
   "outputs": [
    {
     "data": {
      "image/png": "[encoded data removed]",
      "text/plain": [
       "<Figure size 216x216 with 1 Axes>"
      ]
     },
     "metadata": {
      "needs_background": "light",
      "tags": []
     },
     "output_type": "display_data"
    },
    {
     "data": {
      "image/png": "[encoded data removed]",
      "text/plain": [
       "<Figure size 432x288 with 1 Axes>"
      ]
     },
     "metadata": {
      "needs_background": "light",
      "tags": []
     },
     "output_type": "display_data"
    },
    {
     "data": {
      "image/png": "[encoded data removed]",
      "text/plain": [
       "<Figure size 216x216 with 1 Axes>"
      ]
     },
     "metadata": {
      "needs_background": "light",
      "tags": []
     },
     "output_type": "display_data"
    },
    {
     "data": {
      "text/plain": [
       "(0.0, 1.0, 0.0, 1.0)"
      ]
     },
     "execution_count": 66,
     "metadata": {
      "tags": []
     },
     "output_type": "execute_result"
    },
    {
     "data": {
      "image/png": "[encoded data removed]",
      "text/plain": [
       "<Figure size 432x288 with 1 Axes>"
      ]
     },
     "metadata": {
      "needs_background": "light",
      "tags": []
     },
     "output_type": "display_data"
    }
   ],
   "source": [
    "# Plot a bar graph of class distribution in a dataset. Each bar depicts the number of tweets belonging to a particular sentiment.\n",
    "\n",
    "import matplotlib.pyplot as plt\n",
    "\n",
    "fig = plt.figure(figsize=(3,3))\n",
    "ax = fig.add_axes([0,0,1,1])\n",
    "x = ['Negative', 'Positive']\n",
    "y = [sentiments.tolist().count(0), sentiments.tolist().count(1)]\n",
    "ax.bar(x,y, .5)\n",
    "plt.show()\n",
    "plt.axis(\"off\")\n",
    "\n",
    "fig = plt.figure(figsize=(3,3))\n",
    "ax = fig.add_axes([0,0,1,1])\n",
    "x = ['Negative', 'Positive']\n",
    "y = [sentiments_test.tolist().count(0), sentiments_test.tolist().count(1)]\n",
    "ax.bar(x,y, .5)\n",
    "plt.show()\n",
    "plt.axis(\"off\")\n",
    "\n",
    "\n"
   ]
  },
  {
   "cell_type": "markdown",
   "metadata": {
    "id": "Qsx9mNb2_atu"
   },
   "source": [
    "# **3. Data Pre-processing**"
   ]
  },
  {
   "cell_type": "code",
   "execution_count": 67,
   "metadata": {
    "colab": {
     "base_uri": "https://localhost:8080/"
    },
    "id": "sGm4tSbz2qlU",
    "outputId": "d8585194-11f6-4979-d64b-ee3521eeb6bf"
   },
   "outputs": [
    {
     "name": "stdout",
     "output_type": "stream",
     "text": [
      "WARNING:tensorflow:7 out of the last 7 calls to <function recreate_function.<locals>.restored_function_body at 0x7ffb3b23d9e0> triggered tf.function retracing. Tracing is expensive and the excessive number of tracings could be due to (1) creating @tf.function repeatedly in a loop, (2) passing tensors with different shapes, (3) passing Python objects instead of tensors. For (1), please define your @tf.function outside of the loop. For (2), @tf.function has experimental_relax_shapes=True option that relaxes argument shapes that can avoid unnecessary retracing. For (3), please refer to https://www.tensorflow.org/guide/function#controlling_retracing and https://www.tensorflow.org/api_docs/python/tf/function for  more details.\n"
     ]
    },
    {
     "name": "stderr",
     "output_type": "stream",
     "text": [
      "WARNING:tensorflow:7 out of the last 7 calls to <function recreate_function.<locals>.restored_function_body at 0x7ffb3b23d9e0> triggered tf.function retracing. Tracing is expensive and the excessive number of tracings could be due to (1) creating @tf.function repeatedly in a loop, (2) passing tensors with different shapes, (3) passing Python objects instead of tensors. For (1), please define your @tf.function outside of the loop. For (2), @tf.function has experimental_relax_shapes=True option that relaxes argument shapes that can avoid unnecessary retracing. For (3), please refer to https://www.tensorflow.org/guide/function#controlling_retracing and https://www.tensorflow.org/api_docs/python/tf/function for  more details.\n"
     ]
    },
    {
     "name": "stdout",
     "output_type": "stream",
     "text": [
      "WARNING:tensorflow:8 out of the last 8 calls to <function recreate_function.<locals>.restored_function_body at 0x7ffb3d0b1830> triggered tf.function retracing. Tracing is expensive and the excessive number of tracings could be due to (1) creating @tf.function repeatedly in a loop, (2) passing tensors with different shapes, (3) passing Python objects instead of tensors. For (1), please define your @tf.function outside of the loop. For (2), @tf.function has experimental_relax_shapes=True option that relaxes argument shapes that can avoid unnecessary retracing. For (3), please refer to https://www.tensorflow.org/guide/function#controlling_retracing and https://www.tensorflow.org/api_docs/python/tf/function for  more details.\n"
     ]
    },
    {
     "name": "stderr",
     "output_type": "stream",
     "text": [
      "WARNING:tensorflow:8 out of the last 8 calls to <function recreate_function.<locals>.restored_function_body at 0x7ffb3d0b1830> triggered tf.function retracing. Tracing is expensive and the excessive number of tracings could be due to (1) creating @tf.function repeatedly in a loop, (2) passing tensors with different shapes, (3) passing Python objects instead of tensors. For (1), please define your @tf.function outside of the loop. For (2), @tf.function has experimental_relax_shapes=True option that relaxes argument shapes that can avoid unnecessary retracing. For (3), please refer to https://www.tensorflow.org/guide/function#controlling_retracing and https://www.tensorflow.org/api_docs/python/tf/function for  more details.\n"
     ]
    },
    {
     "name": "stdout",
     "output_type": "stream",
     "text": [
      "WARNING:tensorflow:9 out of the last 9 calls to <function recreate_function.<locals>.restored_function_body at 0x7ffb3d0b1a70> triggered tf.function retracing. Tracing is expensive and the excessive number of tracings could be due to (1) creating @tf.function repeatedly in a loop, (2) passing tensors with different shapes, (3) passing Python objects instead of tensors. For (1), please define your @tf.function outside of the loop. For (2), @tf.function has experimental_relax_shapes=True option that relaxes argument shapes that can avoid unnecessary retracing. For (3), please refer to https://www.tensorflow.org/guide/function#controlling_retracing and https://www.tensorflow.org/api_docs/python/tf/function for  more details.\n"
     ]
    },
    {
     "name": "stderr",
     "output_type": "stream",
     "text": [
      "WARNING:tensorflow:9 out of the last 9 calls to <function recreate_function.<locals>.restored_function_body at 0x7ffb3d0b1a70> triggered tf.function retracing. Tracing is expensive and the excessive number of tracings could be due to (1) creating @tf.function repeatedly in a loop, (2) passing tensors with different shapes, (3) passing Python objects instead of tensors. For (1), please define your @tf.function outside of the loop. For (2), @tf.function has experimental_relax_shapes=True option that relaxes argument shapes that can avoid unnecessary retracing. For (3), please refer to https://www.tensorflow.org/guide/function#controlling_retracing and https://www.tensorflow.org/api_docs/python/tf/function for  more details.\n"
     ]
    },
    {
     "data": {
      "text/plain": [
       "<tf.Tensor: shape=(3, 50), dtype=float32, numpy=\n",
       "array([[ 0.5423195 , -0.0119017 ,  0.06337538,  0.06862972, -0.16776837,\n",
       "        -0.10581174,  0.16865303, -0.04998824, -0.31148055,  0.07910346,\n",
       "         0.15442263,  0.01488662,  0.03930153,  0.19772711, -0.12215476,\n",
       "        -0.04120981, -0.2704109 , -0.21922152,  0.26517662, -0.80739075,\n",
       "         0.25833532, -0.3100421 ,  0.28683215,  0.1943387 , -0.29036492,\n",
       "         0.03862849, -0.7844411 , -0.0479324 ,  0.4110299 , -0.36388892,\n",
       "        -0.58034706,  0.30269456,  0.3630897 , -0.15227164, -0.44391504,\n",
       "         0.19462997,  0.19528408,  0.05666234,  0.2890704 , -0.28468323,\n",
       "        -0.00531206,  0.0571938 , -0.3201318 , -0.04418665, -0.08550783,\n",
       "        -0.55847436, -0.23336391, -0.20782952, -0.03543064, -0.17533456],\n",
       "       [ 0.56338924, -0.12339553, -0.10862679,  0.7753425 , -0.07667089,\n",
       "        -0.15752277,  0.01872335, -0.08169781, -0.3521876 ,  0.4637341 ,\n",
       "        -0.08492756,  0.07166859, -0.00670817,  0.12686075, -0.19326553,\n",
       "        -0.52626437, -0.3295823 ,  0.14394785,  0.09043556, -0.5417555 ,\n",
       "         0.02468163, -0.15456742,  0.68333143,  0.09068331, -0.45327246,\n",
       "         0.23180096, -0.8615696 ,  0.34480393,  0.12838456, -0.58759046,\n",
       "        -0.4071231 ,  0.23061076,  0.48426893, -0.27128142, -0.5380916 ,\n",
       "         0.47016326,  0.22572741, -0.00830663,  0.2846242 , -0.304985  ,\n",
       "         0.04400365,  0.25025874,  0.14867121,  0.40717036, -0.15422426,\n",
       "        -0.06878027, -0.40825695, -0.3149215 ,  0.09283665, -0.20183425],\n",
       "       [ 0.7456154 ,  0.21256861,  0.14400336,  0.5233862 ,  0.11032254,\n",
       "         0.00902788, -0.3667802 , -0.08938274, -0.24165542,  0.33384594,\n",
       "        -0.11194605, -0.01460047, -0.0071645 ,  0.19562712,  0.00685216,\n",
       "        -0.24886718, -0.42796347,  0.18620004, -0.05241098, -0.66462487,\n",
       "         0.13449019, -0.22205497,  0.08633006,  0.43685386,  0.2972681 ,\n",
       "         0.36140734, -0.7196889 ,  0.05291241, -0.14316116, -0.1573394 ,\n",
       "        -0.15056328, -0.05988009, -0.08178931, -0.15569411, -0.09303783,\n",
       "        -0.18971172,  0.07620788, -0.02541647, -0.27134508, -0.3392682 ,\n",
       "        -0.10296468, -0.27275252, -0.34078008,  0.20083304, -0.26644835,\n",
       "         0.00655449, -0.05141488, -0.04261917, -0.45413622,  0.20023568]],\n",
       "      dtype=float32)>"
      ]
     },
     "execution_count": 67,
     "metadata": {
      "tags": []
     },
     "output_type": "execute_result"
    }
   ],
   "source": [
    "embedding = \"https://tfhub.dev/google/nnlm-en-dim50/2\"\n",
    "hub_layer = hub.KerasLayer(embedding, input_shape=[], \n",
    "                           dtype=tf.string, trainable=True)\n",
    "hub_layer(reviews[:3])"
   ]
  },
  {
   "cell_type": "markdown",
   "metadata": {
    "id": "OPftlcsh_ob7"
   },
   "source": [
    "# **4. Model Building**"
   ]
  },
  {
   "cell_type": "code",
   "execution_count": 68,
   "metadata": {
    "colab": {
     "base_uri": "https://localhost:8080/"
    },
    "id": "E6-hYHva23E0",
    "outputId": "c278bb00-dc82-4982-bcc7-a01d6bf24d79"
   },
   "outputs": [
    {
     "name": "stdout",
     "output_type": "stream",
     "text": [
      "Model: \"sequential_2\"\n",
      "_________________________________________________________________\n",
      "Layer (type)                 Output Shape              Param #   \n",
      "=================================================================\n",
      "keras_layer_2 (KerasLayer)   (None, 50)                48190600  \n",
      "_________________________________________________________________\n",
      "dense_6 (Dense)              (None, 64)                3264      \n",
      "_________________________________________________________________\n",
      "dropout_2 (Dropout)          (None, 64)                0         \n",
      "_________________________________________________________________\n",
      "dense_7 (Dense)              (None, 32)                2080      \n",
      "_________________________________________________________________\n",
      "dense_8 (Dense)              (None, 1)                 33        \n",
      "=================================================================\n",
      "Total params: 48,195,977\n",
      "Trainable params: 48,195,977\n",
      "Non-trainable params: 0\n",
      "_________________________________________________________________\n"
     ]
    }
   ],
   "source": [
    "model = tf.keras.Sequential()\n",
    "model.add(hub_layer)\n",
    "model.add(tf.keras.layers.Dense(64,activity_regularizer=tf.keras.regularizers.l2(0.01), activation='relu'))\n",
    "model.add(tf.keras.layers.Dropout(0.2)),\n",
    "model.add(tf.keras.layers.Dense(32, activity_regularizer=tf.keras.regularizers.l2(0.01),activation='relu'))\n",
    "model.add(tf.keras.layers.Dense(1,activity_regularizer=tf.keras.regularizers.l2(0.01),activation='sigmoid'))\n",
    "model.summary()"
   ]
  },
  {
   "cell_type": "markdown",
   "metadata": {
    "id": "RyRpE9Y6_weo"
   },
   "source": [
    "# **5. Model Compilation**"
   ]
  },
  {
   "cell_type": "code",
   "execution_count": 69,
   "metadata": {
    "id": "pXNXRCwM3DEw"
   },
   "outputs": [],
   "source": [
    "model.compile(optimizer= tf.keras.optimizers.Adam(.001),\n",
    "              loss=tf.keras.losses.BinaryCrossentropy(from_logits=True),\n",
    "              metrics=['accuracy'])"
   ]
  },
  {
   "cell_type": "markdown",
   "metadata": {
    "id": "92VZWd4cAIkK"
   },
   "source": [
    "# **6. Model Training**"
   ]
  },
  {
   "cell_type": "code",
   "execution_count": 70,
   "metadata": {
    "colab": {
     "base_uri": "https://localhost:8080/"
    },
    "id": "5QrJxtYO3FQQ",
    "outputId": "d3798292-981a-4a24-890f-1454a0f474bf"
   },
   "outputs": [
    {
     "name": "stdout",
     "output_type": "stream",
     "text": [
      "Epoch 1/5\n",
      "157/157 [==============================] - 10s 60ms/step - loss: 0.6762 - accuracy: 0.6359 - val_loss: 0.4048 - val_accuracy: 0.8524\n",
      "Epoch 2/5\n",
      "157/157 [==============================] - 9s 57ms/step - loss: 0.3244 - accuracy: 0.9043 - val_loss: 0.3513 - val_accuracy: 0.8744\n",
      "Epoch 3/5\n",
      "157/157 [==============================] - 9s 58ms/step - loss: 0.1915 - accuracy: 0.9652 - val_loss: 0.3673 - val_accuracy: 0.8640\n",
      "Epoch 4/5\n",
      "157/157 [==============================] - 9s 58ms/step - loss: 0.1228 - accuracy: 0.9862 - val_loss: 0.3997 - val_accuracy: 0.8570\n",
      "Epoch 5/5\n",
      "157/157 [==============================] - 9s 57ms/step - loss: 0.0860 - accuracy: 0.9966 - val_loss: 0.4194 - val_accuracy: 0.8556\n"
     ]
    }
   ],
   "source": [
    "history = model.fit(x=reviews, y=sentiments, epochs=5, validation_split=.2, shuffle=True,  batch_size=128)"
   ]
  },
  {
   "cell_type": "markdown",
   "metadata": {
    "id": "-7T0lvjDATph"
   },
   "source": [
    "# **7. Model Evaluation**"
   ]
  },
  {
   "cell_type": "code",
   "execution_count": 71,
   "metadata": {
    "colab": {
     "base_uri": "https://localhost:8080/"
    },
    "id": "4TP7tP5e_H05",
    "outputId": "43653f60-1021-4646-fb4b-b93e67a889e5"
   },
   "outputs": [
    {
     "name": "stdout",
     "output_type": "stream",
     "text": [
      "Final training loss \t 0.08362969011068344\n",
      "Final training accuracy  0.9962999820709229\n"
     ]
    }
   ],
   "source": [
    "print('Final training loss \\t', history.history['loss'][-1])\n",
    "print('Final training accuracy ', history.history['accuracy'][-1])"
   ]
  },
  {
   "cell_type": "code",
   "execution_count": 72,
   "metadata": {
    "colab": {
     "base_uri": "https://localhost:8080/",
     "height": 382
    },
    "id": "MkF3muHfNMvp",
    "outputId": "fea86423-a5e0-49f2-e1ee-55e80fb1420b"
   },
   "outputs": [
    {
     "name": "stdout",
     "output_type": "stream",
     "text": [
      "WARNING:tensorflow:10 out of the last 10 calls to <function recreate_function.<locals>.restored_function_body at 0x7ffb3aba6680> triggered tf.function retracing. Tracing is expensive and the excessive number of tracings could be due to (1) creating @tf.function repeatedly in a loop, (2) passing tensors with different shapes, (3) passing Python objects instead of tensors. For (1), please define your @tf.function outside of the loop. For (2), @tf.function has experimental_relax_shapes=True option that relaxes argument shapes that can avoid unnecessary retracing. For (3), please refer to https://www.tensorflow.org/guide/function#controlling_retracing and https://www.tensorflow.org/api_docs/python/tf/function for  more details.\n"
     ]
    },
    {
     "name": "stderr",
     "output_type": "stream",
     "text": [
      "WARNING:tensorflow:10 out of the last 10 calls to <function recreate_function.<locals>.restored_function_body at 0x7ffb3aba6680> triggered tf.function retracing. Tracing is expensive and the excessive number of tracings could be due to (1) creating @tf.function repeatedly in a loop, (2) passing tensors with different shapes, (3) passing Python objects instead of tensors. For (1), please define your @tf.function outside of the loop. For (2), @tf.function has experimental_relax_shapes=True option that relaxes argument shapes that can avoid unnecessary retracing. For (3), please refer to https://www.tensorflow.org/guide/function#controlling_retracing and https://www.tensorflow.org/api_docs/python/tf/function for  more details.\n"
     ]
    },
    {
     "name": "stdout",
     "output_type": "stream",
     "text": [
      "WARNING:tensorflow:11 out of the last 11 calls to <function recreate_function.<locals>.restored_function_body at 0x7ffb3d2d37a0> triggered tf.function retracing. Tracing is expensive and the excessive number of tracings could be due to (1) creating @tf.function repeatedly in a loop, (2) passing tensors with different shapes, (3) passing Python objects instead of tensors. For (1), please define your @tf.function outside of the loop. For (2), @tf.function has experimental_relax_shapes=True option that relaxes argument shapes that can avoid unnecessary retracing. For (3), please refer to https://www.tensorflow.org/guide/function#controlling_retracing and https://www.tensorflow.org/api_docs/python/tf/function for  more details.\n"
     ]
    },
    {
     "name": "stderr",
     "output_type": "stream",
     "text": [
      "WARNING:tensorflow:11 out of the last 11 calls to <function recreate_function.<locals>.restored_function_body at 0x7ffb3d2d37a0> triggered tf.function retracing. Tracing is expensive and the excessive number of tracings could be due to (1) creating @tf.function repeatedly in a loop, (2) passing tensors with different shapes, (3) passing Python objects instead of tensors. For (1), please define your @tf.function outside of the loop. For (2), @tf.function has experimental_relax_shapes=True option that relaxes argument shapes that can avoid unnecessary retracing. For (3), please refer to https://www.tensorflow.org/guide/function#controlling_retracing and https://www.tensorflow.org/api_docs/python/tf/function for  more details.\n"
     ]
    },
    {
     "data": {
      "image/png": "[encoded data removed]",
      "text/plain": [
       "<Figure size 432x288 with 1 Axes>"
      ]
     },
     "metadata": {
      "needs_background": "light",
      "tags": []
     },
     "output_type": "display_data"
    }
   ],
   "source": [
    "# plot the training  accuracy  \n",
    "\n",
    "plt.plot(history.history['accuracy'], label='train')\n",
    "plt.plot(history.history['val_accuracy'], label='validation')\n",
    "plt.xlabel('Epochs')\n",
    "plt.ylabel('Loss')\n",
    "plt.title('Plot of Accuracy')\n",
    "plt.legend()\n",
    "plt.show()"
   ]
  },
  {
   "cell_type": "code",
   "execution_count": 73,
   "metadata": {
    "colab": {
     "base_uri": "https://localhost:8080/",
     "height": 295
    },
    "id": "mbH_1prfNUXk",
    "outputId": "fcc8b676-d80b-4a34-9b10-5cc175e55499"
   },
   "outputs": [
    {
     "data": {
      "image/png": "[encoded data removed]",
      "text/plain": [
       "<Figure size 432x288 with 1 Axes>"
      ]
     },
     "metadata": {
      "needs_background": "light",
      "tags": []
     },
     "output_type": "display_data"
    }
   ],
   "source": [
    "# plot the traininig loss \n",
    "\n",
    "plt.plot(history.history['loss'], label='train')\n",
    "plt.plot(history.history['val_loss'], label='validation')\n",
    "plt.xlabel('Epochs')\n",
    "plt.ylabel('Loss')\n",
    "plt.title('Plot of Loss')\n",
    "plt.legend()\n",
    "plt.show()"
   ]
  },
  {
   "cell_type": "code",
   "execution_count": 74,
   "metadata": {
    "colab": {
     "base_uri": "https://localhost:8080/"
    },
    "id": "PYXTSQDiNdUG",
    "outputId": "6525fb7e-5a01-42c9-f6f8-23fdd22c8ff8"
   },
   "outputs": [
    {
     "name": "stdout",
     "output_type": "stream",
     "text": [
      "196/196 [==============================] - 2s 12ms/step - loss: 0.4561 - accuracy: 0.8424\n"
     ]
    }
   ],
   "source": [
    "testLoss, testAccuracy = model.evaluate(test_data, sentiments_test, batch_size=128)"
   ]
  },
  {
   "cell_type": "code",
   "execution_count": 75,
   "metadata": {
    "colab": {
     "base_uri": "https://localhost:8080/"
    },
    "id": "3YPkAZapOKMw",
    "outputId": "152d84a0-8954-4e0a-f613-27ee5622a18f"
   },
   "outputs": [
    {
     "name": "stdout",
     "output_type": "stream",
     "text": [
      "Testing loss \t 0.4560566544532776\n",
      "Testing accuracy  0.8424400091171265\n"
     ]
    }
   ],
   "source": [
    "print('Testing loss \\t', testLoss)\n",
    "print('Testing accuracy ', testAccuracy)"
   ]
  },
  {
   "cell_type": "code",
   "execution_count": 76,
   "metadata": {
    "id": "Gdu8PBl2OR1M"
   },
   "outputs": [],
   "source": [
    "y_pred = model.predict(reviews_test, batch_size=128)\n",
    "predicted_categories = np.uint8(tf.math.round(y_pred))"
   ]
  },
  {
   "cell_type": "code",
   "execution_count": 77,
   "metadata": {
    "id": "xFT-SzbxQoba"
   },
   "outputs": [],
   "source": [
    "true_categories = sentiments_test"
   ]
  },
  {
   "cell_type": "code",
   "execution_count": 78,
   "metadata": {
    "colab": {
     "base_uri": "https://localhost:8080/"
    },
    "id": "4-hxqi63Q4q7",
    "outputId": "d0349d07-0e3c-4d4c-b610-fa9d5561eea7"
   },
   "outputs": [
    {
     "data": {
      "text/plain": [
       "array([[10696,  2135],\n",
       "       [ 1804, 10365]])"
      ]
     },
     "execution_count": 78,
     "metadata": {
      "tags": []
     },
     "output_type": "execute_result"
    }
   ],
   "source": [
    "from sklearn.metrics import confusion_matrix\n",
    "from sklearn.metrics import classification_report\n",
    "confusion_matrix(predicted_categories, true_categories)"
   ]
  },
  {
   "cell_type": "code",
   "execution_count": 79,
   "metadata": {
    "colab": {
     "base_uri": "https://localhost:8080/"
    },
    "id": "5uTZR1trRAqr",
    "outputId": "e4de24a0-6415-41e5-eaff-60d3061559cf"
   },
   "outputs": [
    {
     "name": "stdout",
     "output_type": "stream",
     "text": [
      "              precision    recall  f1-score   support\n",
      "\n",
      "           0       0.83      0.86      0.84     12500\n",
      "           1       0.85      0.83      0.84     12500\n",
      "\n",
      "    accuracy                           0.84     25000\n",
      "   macro avg       0.84      0.84      0.84     25000\n",
      "weighted avg       0.84      0.84      0.84     25000\n",
      "\n"
     ]
    }
   ],
   "source": [
    "print(classification_report(sentiments_test, predicted_categories,  [0,1], zero_division=1))"
   ]
  },
  {
   "cell_type": "code",
   "execution_count": 80,
   "metadata": {
    "colab": {
     "base_uri": "https://localhost:8080/"
    },
    "id": "_y5x8f9ASfKk",
    "outputId": "696671a1-d01f-4009-b14d-d27d46f82db1"
   },
   "outputs": [
    {
     "name": "stdout",
     "output_type": "stream",
     "text": [
      "miss classified label index, predicted_label, actual_label\n",
      "predicted correctly:  0 [1] 1\n",
      "predicted incorrectly:  1 [0] 1\n",
      "predicted correctly:  2 [0] 0\n",
      "predicted correctly:  3 [0] 0\n",
      "predicted correctly:  4 [1] 1\n",
      "predicted correctly:  5 [1] 1\n",
      "predicted correctly:  6 [1] 1\n",
      "predicted correctly:  7 [1] 1\n",
      "predicted incorrectly:  8 [1] 0\n",
      "predicted correctly:  9 [1] 1\n"
     ]
    }
   ],
   "source": [
    "print(\"miss classified label index, predicted_label, actual_label\")\n",
    "for i in range(10):\n",
    "  if(predicted_categories[i] != sentiments_test[i]):\n",
    "    print('predicted incorrectly: ', i, predicted_categories[i], sentiments_test[i])\n",
    "  else:\n",
    "    print('predicted correctly: ', i, predicted_categories[i], sentiments_test[i])\n"
   ]
  },
  {
   "cell_type": "code",
   "execution_count": 91,
   "metadata": {
    "colab": {
     "base_uri": "https://localhost:8080/"
    },
    "id": "RbBRJWjynqBO",
    "outputId": "5ba93963-b084-4c48-d54b-2a126bbbc4ce"
   },
   "outputs": [
    {
     "data": {
      "text/plain": [
       "b\"A blackly comic tale of a down-trodden priest, Nazarin showcases the economy that Luis Bunuel was able to achieve in being able to tell a deeply humanist fable with a minimum of fuss. As an output from his Mexican era of film making, it was an invaluable talent to possess, with little money and extremely tight schedules. Nazarin, however, surpasses many of Bunuel's previous Mexican films in terms of the acting (Francisco Rabal is excellent), narrative and theme.<br /><br />The theme, interestingly, is something that was explored again in Viridiana, made three years later in Spain. It concerns the individual's struggle for humanity and altruism amongst a society that rejects any notion of virtue. Father Nazarin, however, is portrayed more sympathetically than Sister Viridiana. Whereas the latter seems to choose charity because she wishes to atone for her (perceived) sins, Nazarin's whole existence and reason for being seems to be to help others, whether they (or we) like it or not. The film's last scenes, in which he casts doubt on his behaviour and, in a split second, has to choose between the life he has been leading or the conventional life that is expected of a priest, are so emotional because they concern his moral integrity and we are never quite sure whether it remains intact or not.<br /><br />This is a remarkable film and I would urge anyone interested in classic cinema to seek it out. It is one of Bunuel's most moving films, and encapsulates many of his obsessions: frustrated desire, mad love, religious hypocrisy etc. In my view 'Nazarin' is second only to 'The Exterminating Angel', in terms of his Mexican movies, and is certainly near the top of the list of Bunuel's total filmic output.\""
      ]
     },
     "execution_count": 91,
     "metadata": {
      "tags": []
     },
     "output_type": "execute_result"
    }
   ],
   "source": [
    "## postive review predicted as negative\n",
    "\n",
    "reviews_test[1]"
   ]
  },
  {
   "cell_type": "code",
   "execution_count": 92,
   "metadata": {
    "colab": {
     "base_uri": "https://localhost:8080/"
    },
    "id": "hhvKNpBsoCjV",
    "outputId": "01701f63-1566-4f2d-def1-38bd22678c5a"
   },
   "outputs": [
    {
     "data": {
      "text/plain": [
       "b'As long as you keep in mind that the production of this movie was a copyright ploy, and not intended as a serious release, it is actually surprising how not absolutely horrible it is. I even liked the theme music.<br /><br />And if ever a flick cried out for a treatment by Joel (or Mike) and the MST3K Bots, this is it! Watch this with a bunch of smart-ass wise-crackers, and you\\'re in for a good time. Have a brew, butter up some large pretzels, and enjoy.<br /><br />Of course, obtaining a copy requires buying a bootleg or downloading it as shareware, but if you\\'re here on the IMDb, then you\\'re most likely savvy enough to do so. Good luck.<br /><br />And look for my favorite part....where Dr. Doom informs the FF that they have 12 hours to comply with his wishes....and he actually gestures the number \"12\" with his finger while doing so....it\\'s like \"Evil Sesame Street\"....hoo boy.<br /><br />...and of course Mrs. Storm declaring \"Just look at you....the Fanstastic Four\" is just so heartwarming....you\\'ll laugh, you\\'ll cry.....<br /><br />So if you love schlocky Sci-Fi, this one\\'s Fantastic For you!'"
      ]
     },
     "execution_count": 92,
     "metadata": {
      "tags": []
     },
     "output_type": "execute_result"
    }
   ],
   "source": [
    "## Negative review predicted as Positive\n",
    "\n",
    "reviews_test[8]"
   ]
  },
  {
   "cell_type": "code",
   "execution_count": 83,
   "metadata": {
    "colab": {
     "base_uri": "https://localhost:8080/"
    },
    "id": "ozIXWYSKoJhM",
    "outputId": "6da2db81-9356-4070-af51-a262ddf8446d"
   },
   "outputs": [
    {
     "data": {
      "text/plain": [
       "b'Scary Movie 1-4, Epic Movie, Date Movie, Meet the Spartans, Not another Teen Movie and Another Gay Movie. Making \"Superhero Movie\" the eleventh in a series that single handily ruined the parody genre. Now I\\'ll admit it I have a soft spot for classics such as Airplane and The Naked Gun but you know you\\'ve milked a franchise so bad when you can see the gags a mile off. In fact the only thing that might really temp you into going to see this disaster is the incredibly funny but massive sell-out Leslie Neilson.<br /><br />You can tell he needs the money, wither that or he intends to go down with the ship like a good Capitan would. In no way is he bringing down this genre but hell he\\'s not helping it. But if I feel sorry for anybody in this film its decent actor Drake Bell who is put through an immense amount of embarrassment. The people who are put through the largest amount of torture by far however is the audience forced to sit through 90 minutes of laughless bile no funnier than herpes.<br /><br />After spoofing disaster films in Airplane!, police shows in The Naked Gun, and Hollywood horrors in Scary Movie 3 and 4, producer David Zucker sets his satirical sights on the superhero genre with this anarchic comedy lampooning everything from Spider-Man to X-Men and Superman Returns.<br /><br />Shortly after being bitten by a genetically altered dragonfly, high-school outcast Rick Riker (Drake Bell) begins to experience a startling transformation. Now Rick\\'s skin is as strong as steel, and he possesses the strength of ten men. Determined to use his newfound powers to fight crime, Rick creates a special costume and assumes the identity of The Dragonfly -- a fearless crime fighter dedicated to keeping the streets safe for law-abiding citizens.<br /><br />But every superhero needs a nemesis, and after Lou Landers (Christopher McDonald) is caught in the middle of an experiment gone horribly awry, he develops the power to leech the life force out of anyone he meets and becomes the villainous Hourglass. Intent on achieving immortality, the Hourglass attempts to gather as much life force as possible as the noble Dragonfly sets out to take down his archenemy and realize his destiny as a true hero. Craig Mazin writes and directs this low-flying spoof.<br /><br />featuring Tracy Morgan, Pamela Anderson, Leslie Nielsen, Marion Ross, Jeffrey Tambor, and Regina Hall.<br /><br />Hell Superhero Movie may earn some merit in the fact that it\\'s a hell of a lot better than Meet the Spartans and Epic Movie. But with great responsibility comes one of the worst outings of 2008 to date. Laughless but a little less irritating than Meet the Spartans. And in the same sense much more forgettable than meet the Spartans. But maybe that\\'s a good reason. There are still some of us trying to scrape away the stain that was Meet the Spartans from our memory.<br /><br />My final verdict? Avoid, unless you\\'re one of thoses people who enjoy such car crash cinema. As bad as Date Movie and Scary Movie 2 but not quite as bad as Meet the Spartans or Epic Movie. Super Villain.'"
      ]
     },
     "execution_count": 83,
     "metadata": {
      "tags": []
     },
     "output_type": "execute_result"
    }
   ],
   "source": [
    "\n",
    "## negative review predicted as negative\n",
    "reviews_test[2]"
   ]
  },
  {
   "cell_type": "markdown",
   "metadata": {
    "id": "j5RK-4_LAcVO"
   },
   "source": [
    "# **Hyperparameter Tuning**"
   ]
  },
  {
   "cell_type": "markdown",
   "metadata": {
    "id": "eUVIs_aYAmtV"
   },
   "source": [
    "## **1. Optimiser: Use a different optimizer with the appropriate LR value**"
   ]
  },
  {
   "cell_type": "code",
   "execution_count": 84,
   "metadata": {
    "colab": {
     "base_uri": "https://localhost:8080/"
    },
    "id": "sV4rGgxFsJaO",
    "outputId": "55daf5de-d1f6-48a5-889f-35ba1974e53c"
   },
   "outputs": [
    {
     "name": "stdout",
     "output_type": "stream",
     "text": [
      "Epoch 1/5\n",
      "157/157 [==============================] - 4s 19ms/step - loss: 0.5985 - accuracy: 0.7710 - val_loss: 0.4021 - val_accuracy: 0.8520\n",
      "Epoch 2/5\n",
      "157/157 [==============================] - 3s 18ms/step - loss: 0.1582 - accuracy: 0.9866 - val_loss: 0.3938 - val_accuracy: 0.8574\n",
      "Epoch 3/5\n",
      "157/157 [==============================] - 3s 17ms/step - loss: 0.1056 - accuracy: 0.9963 - val_loss: 0.4096 - val_accuracy: 0.8574\n",
      "Epoch 4/5\n",
      "157/157 [==============================] - 3s 18ms/step - loss: 0.0870 - accuracy: 0.9975 - val_loss: 0.4277 - val_accuracy: 0.8550\n",
      "Epoch 5/5\n",
      "157/157 [==============================] - 3s 18ms/step - loss: 0.0772 - accuracy: 0.9986 - val_loss: 0.4282 - val_accuracy: 0.8568\n"
     ]
    }
   ],
   "source": [
    "model = tf.keras.Sequential()\n",
    "model.add(hub_layer)\n",
    "model.add(tf.keras.layers.Dense(64,activity_regularizer=tf.keras.regularizers.l2(0.01), activation='relu'))\n",
    "model.add(tf.keras.layers.Dropout(0.2)),\n",
    "model.add(tf.keras.layers.Dense(32, activity_regularizer=tf.keras.regularizers.l2(0.01),activation='relu'))\n",
    "model.add(tf.keras.layers.Dense(1,activity_regularizer=tf.keras.regularizers.l2(0.01),activation='sigmoid'))\n",
    "\n",
    "model.compile(optimizer= tf.keras.optimizers.SGD(.1),\n",
    "              loss=tf.keras.losses.BinaryCrossentropy(from_logits=True),\n",
    "              metrics=['accuracy'])\n",
    "\n",
    "h1 = model.fit(x=reviews, y=sentiments, epochs=5, validation_split=.2, shuffle=True,  batch_size=128)\n"
   ]
  },
  {
   "cell_type": "code",
   "execution_count": 85,
   "metadata": {
    "colab": {
     "base_uri": "https://localhost:8080/",
     "height": 657
    },
    "id": "4aroaB-jth82",
    "outputId": "729c8289-39e9-42bf-ce8a-e7d5876eca02"
   },
   "outputs": [
    {
     "name": "stdout",
     "output_type": "stream",
     "text": [
      "Final training loss \t 0.07550277560949326\n",
      "Final training accuracy  0.9986000061035156\n"
     ]
    },
    {
     "data": {
      "image/png": "[encoded data removed]",
      "text/plain": [
       "<Figure size 432x288 with 1 Axes>"
      ]
     },
     "metadata": {
      "needs_background": "light",
      "tags": []
     },
     "output_type": "display_data"
    },
    {
     "data": {
      "image/png": "[encoded data removed]",
      "text/plain": [
       "<Figure size 432x288 with 1 Axes>"
      ]
     },
     "metadata": {
      "needs_background": "light",
      "tags": []
     },
     "output_type": "display_data"
    },
    {
     "name": "stdout",
     "output_type": "stream",
     "text": [
      "500/500 [==============================] - 4s 7ms/step - loss: 0.4700 - accuracy: 0.8423\n",
      "Testing loss \t 0.4700017273426056\n",
      "Testing accuracy  0.8423200249671936\n"
     ]
    }
   ],
   "source": [
    "print('Final training loss \\t', h1.history['loss'][-1])\n",
    "print('Final training accuracy ', h1.history['accuracy'][-1])\n",
    "\n",
    "# plot the training  accuracy  \n",
    "\n",
    "plt.plot(h1.history['accuracy'], label='train')\n",
    "plt.plot(h1.history['val_accuracy'], label='validation')\n",
    "plt.xlabel('Epochs')\n",
    "plt.ylabel('Loss')\n",
    "plt.title('Plot of Accuracy')\n",
    "plt.legend()\n",
    "plt.show()\n",
    "\n",
    "# plot the traininig loss \n",
    "\n",
    "plt.plot(h1.history['loss'], label='train')\n",
    "plt.plot(h1.history['val_loss'], label='validation')\n",
    "plt.xlabel('Epochs')\n",
    "plt.ylabel('Loss')\n",
    "plt.title('Plot of Loss')\n",
    "plt.legend()\n",
    "plt.show()\n",
    "\n",
    "# testing the model\n",
    "\n",
    "testLoss, testAccuracy = model.evaluate(test_data, sentiments_test, batch_size=50)\n",
    "\n",
    "\n",
    "print('Testing loss \\t', testLoss)\n",
    "print('Testing accuracy ', testAccuracy)\n",
    "\n",
    "y_pred = model.predict(reviews_test, batch_size=128)\n",
    "predicted_categories = np.uint8(tf.math.round(y_pred))\n",
    "\n",
    "true_categories = sentiments_test"
   ]
  },
  {
   "cell_type": "code",
   "execution_count": 94,
   "metadata": {
    "colab": {
     "base_uri": "https://localhost:8080/"
    },
    "id": "6cerhr7nubjx",
    "outputId": "57423d00-3497-4b4d-ec94-7baca20f51b9"
   },
   "outputs": [
    {
     "name": "stdout",
     "output_type": "stream",
     "text": [
      "[[10645  2707]\n",
      " [ 1855  9793]]\n"
     ]
    }
   ],
   "source": [
    "print(confusion_matrix(predicted_categories, true_categories))\n",
    "\n"
   ]
  },
  {
   "cell_type": "code",
   "execution_count": 95,
   "metadata": {
    "colab": {
     "base_uri": "https://localhost:8080/"
    },
    "id": "nkfihSVexNcc",
    "outputId": "ae78c2eb-fac1-4d27-868e-9bd6d68126a5"
   },
   "outputs": [
    {
     "name": "stdout",
     "output_type": "stream",
     "text": [
      "              precision    recall  f1-score   support\n",
      "\n",
      "           0       0.80      0.85      0.82     12500\n",
      "           1       0.84      0.78      0.81     12500\n",
      "\n",
      "    accuracy                           0.82     25000\n",
      "   macro avg       0.82      0.82      0.82     25000\n",
      "weighted avg       0.82      0.82      0.82     25000\n",
      "\n"
     ]
    }
   ],
   "source": [
    "\n",
    "print(classification_report(true_categories, predicted_categories, [0, 1], zero_division=1))"
   ]
  },
  {
   "cell_type": "code",
   "execution_count": 87,
   "metadata": {
    "colab": {
     "base_uri": "https://localhost:8080/"
    },
    "id": "J2SUANLAu1Hl",
    "outputId": "e24c1015-c1b1-4767-d8b2-0fe9ffcb4746"
   },
   "outputs": [
    {
     "name": "stdout",
     "output_type": "stream",
     "text": [
      "miss classified label index, predicted_label, actual_label\n",
      "predicted correctly:  0 [1] 1\n",
      "predicted incorrectly:  1 [0] 1\n",
      "predicted correctly:  2 [0] 0\n",
      "predicted correctly:  3 [0] 0\n",
      "predicted correctly:  4 [1] 1\n",
      "predicted correctly:  5 [1] 1\n",
      "predicted correctly:  6 [1] 1\n",
      "predicted correctly:  7 [1] 1\n",
      "predicted incorrectly:  8 [1] 0\n",
      "predicted correctly:  9 [1] 1\n"
     ]
    }
   ],
   "source": [
    "print(\"miss classified label index, predicted_label, actual_label\")\n",
    "for i in range(10):\n",
    "  if(predicted_categories[i] != sentiments_test[i]):\n",
    "    print('predicted incorrectly: ', i, predicted_categories[i], sentiments_test[i])\n",
    "  else:\n",
    "    print('predicted correctly: ', i, predicted_categories[i], sentiments_test[i])"
   ]
  },
  {
   "cell_type": "markdown",
   "metadata": {
    "id": "P2fhXNScA0PW"
   },
   "source": [
    "## **2. Batch Size: Change the value of batch size in model training**"
   ]
  },
  {
   "cell_type": "code",
   "execution_count": 88,
   "metadata": {
    "colab": {
     "base_uri": "https://localhost:8080/"
    },
    "id": "iQg7TwvO80wr",
    "outputId": "2f5e7d1d-9399-4841-89d7-ebcadc9295bb"
   },
   "outputs": [
    {
     "name": "stdout",
     "output_type": "stream",
     "text": [
      "Epoch 1/5\n",
      "400/400 [==============================] - 21s 51ms/step - loss: 0.3675 - accuracy: 0.9110 - val_loss: 0.4285 - val_accuracy: 0.8534\n",
      "Epoch 2/5\n",
      "400/400 [==============================] - 20s 51ms/step - loss: 0.0966 - accuracy: 0.9964 - val_loss: 0.4567 - val_accuracy: 0.8456\n",
      "Epoch 3/5\n",
      "400/400 [==============================] - 20s 51ms/step - loss: 0.0631 - accuracy: 0.9994 - val_loss: 0.4933 - val_accuracy: 0.8464\n",
      "Epoch 4/5\n",
      "400/400 [==============================] - 20s 50ms/step - loss: 0.0468 - accuracy: 0.9998 - val_loss: 0.4977 - val_accuracy: 0.8434\n",
      "Epoch 5/5\n",
      "400/400 [==============================] - 20s 51ms/step - loss: 0.0376 - accuracy: 1.0000 - val_loss: 0.5108 - val_accuracy: 0.8398\n"
     ]
    }
   ],
   "source": [
    "model = tf.keras.Sequential()\n",
    "model.add(hub_layer)\n",
    "model.add(tf.keras.layers.Dense(64,activity_regularizer=tf.keras.regularizers.l2(0.01), activation='relu'))\n",
    "model.add(tf.keras.layers.Dropout(0.2)),\n",
    "model.add(tf.keras.layers.Dense(32, activity_regularizer=tf.keras.regularizers.l2(0.01),activation='relu'))\n",
    "model.add(tf.keras.layers.Dense(1,activity_regularizer=tf.keras.regularizers.l2(0.01),activation='sigmoid'))\n",
    "\n",
    "model.compile(optimizer= tf.keras.optimizers.Adam(.001),\n",
    "              loss=tf.keras.losses.BinaryCrossentropy(from_logits=True),\n",
    "              metrics=['accuracy'])\n",
    "\n",
    "h2 = model.fit(x=reviews, y=sentiments, epochs=5, validation_split=.2, shuffle=True,  batch_size=50)"
   ]
  },
  {
   "cell_type": "code",
   "execution_count": 89,
   "metadata": {
    "colab": {
     "base_uri": "https://localhost:8080/",
     "height": 657
    },
    "id": "A1Enx3jq811a",
    "outputId": "762b76b9-fc3f-46c3-cba0-3e1aba21677d"
   },
   "outputs": [
    {
     "name": "stdout",
     "output_type": "stream",
     "text": [
      "Final training loss \t 0.03617275133728981\n",
      "Final training accuracy  0.9999499917030334\n"
     ]
    },
    {
     "data": {
      "image/png": "[encoded data removed]",
      "text/plain": [
       "<Figure size 432x288 with 1 Axes>"
      ]
     },
     "metadata": {
      "needs_background": "light",
      "tags": []
     },
     "output_type": "display_data"
    },
    {
     "data": {
      "image/png": "[encoded data removed]",
      "text/plain": [
       "<Figure size 432x288 with 1 Axes>"
      ]
     },
     "metadata": {
      "needs_background": "light",
      "tags": []
     },
     "output_type": "display_data"
    },
    {
     "name": "stdout",
     "output_type": "stream",
     "text": [
      "500/500 [==============================] - 4s 8ms/step - loss: 0.5916 - accuracy: 0.8175\n",
      "Testing loss \t 0.5915611386299133\n",
      "Testing accuracy  0.817520022392273\n"
     ]
    }
   ],
   "source": [
    "print('Final training loss \\t', h2.history['loss'][-1])\n",
    "print('Final training accuracy ', h2.history['accuracy'][-1])\n",
    "\n",
    "# plot the training  accuracy  \n",
    "\n",
    "plt.plot(h2.history['accuracy'], label='train')\n",
    "plt.plot(h2.history['val_accuracy'], label='validation')\n",
    "plt.xlabel('Epochs')\n",
    "plt.ylabel('Loss')\n",
    "plt.title('Plot of Accuracy')\n",
    "plt.legend()\n",
    "plt.show()\n",
    "\n",
    "# plot the traininig loss \n",
    "\n",
    "plt.plot(h2.history['loss'], label='train')\n",
    "plt.plot(h2.history['val_loss'], label='validation')\n",
    "plt.xlabel('Epochs')\n",
    "plt.ylabel('Loss')\n",
    "plt.title('Plot of Loss')\n",
    "plt.legend()\n",
    "plt.show()\n",
    "\n",
    "# testing the model\n",
    "\n",
    "testLoss, testAccuracy = model.evaluate(test_data, sentiments_test, batch_size=50)\n",
    "\n",
    "\n",
    "print('Testing loss \\t', testLoss)\n",
    "print('Testing accuracy ', testAccuracy)\n",
    "\n",
    "y_pred = model.predict(reviews_test, batch_size=128)\n",
    "predicted_categories = np.uint8(tf.math.round(y_pred))\n",
    "\n",
    "true_categories = sentiments_test"
   ]
  },
  {
   "cell_type": "code",
   "execution_count": 90,
   "metadata": {
    "colab": {
     "base_uri": "https://localhost:8080/"
    },
    "id": "FssyVPt888jI",
    "outputId": "adcafd3b-a9ac-431c-e70a-50f61dbfe267"
   },
   "outputs": [
    {
     "name": "stdout",
     "output_type": "stream",
     "text": [
      "miss classified label index, predicted_label, actual_label\n",
      "predicted correctly:  0 [1] 1\n",
      "predicted incorrectly:  1 [0] 1\n",
      "predicted correctly:  2 [0] 0\n",
      "predicted correctly:  3 [0] 0\n",
      "predicted correctly:  4 [1] 1\n",
      "predicted correctly:  5 [1] 1\n",
      "predicted correctly:  6 [1] 1\n",
      "predicted correctly:  7 [1] 1\n",
      "predicted incorrectly:  8 [1] 0\n",
      "predicted incorrectly:  9 [0] 1\n"
     ]
    }
   ],
   "source": [
    "print(\"miss classified label index, predicted_label, actual_label\")\n",
    "for i in range(10):\n",
    "  if(predicted_categories[i] != sentiments_test[i]):\n",
    "    print('predicted incorrectly: ', i, predicted_categories[i], sentiments_test[i])\n",
    "  else:\n",
    "    print('predicted correctly: ', i, predicted_categories[i], sentiments_test[i])"
   ]
  },
  {
   "cell_type": "markdown",
   "metadata": {
    "id": "t_uNgs9sA-SX"
   },
   "source": [
    "# **Summary**\n",
    "\n"
   ]
  },
  {
   "cell_type": "markdown",
   "metadata": {
    "id": "THtwU6TSBElF"
   },
   "source": [
    "## **Observations**\n",
    "\n",
    "\n",
    "\n",
    "*   **Train Accuracy**: All 3 models are giving 99% training accuracy with optimization and batch size tunning.\n",
    "*   **Train Loss**: All 3 models have very minimum training loss, in that model3 has very low loss or ignorable.\n",
    "\n",
    "* When we compare Adam and SGD optimization with this scenario, SGD took more learning rate(0.1) to give same accuracy as Adam(at 0.001).\n",
    "* **Test accuracy** almost same in three models.\n",
    "* Observed more **Test Loss** in model3 due to batch size change\n",
    "\n",
    "\n"
   ]
  }
 ],
 "metadata": {
  "accelerator": "GPU",
  "colab": {
   "collapsed_sections": [],
   "name": "NLP_DL_Group_205.ipynb",
   "provenance": [],
   "toc_visible": true
  },
  "kernelspec": {
   "display_name": "Python 3",
   "language": "python",
   "name": "python3"
  },
  "language_info": {
   "codemirror_mode": {
    "name": "ipython",
    "version": 3
   },
   "file_extension": ".py",
   "mimetype": "text/x-python",
   "name": "python",
   "nbconvert_exporter": "python",
   "pygments_lexer": "ipython3",
   "version": "3.8.5"
  }
 },
 "nbformat": 4,
 "nbformat_minor": 1
}
